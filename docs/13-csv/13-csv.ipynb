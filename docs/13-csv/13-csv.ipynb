{
 "cells": [
  {
   "cell_type": "markdown",
   "metadata": {},
   "source": [
    "# Analisando Dados \n",
    "\n",
    "Neste laboratório utilizaremos dados atualizados da pandemia para realizar algumas análises. Os dados provem de https://covid.ourworldindata.org/\n",
    "\n",
    "## Arquivos\n",
    "As linguagens de programação utilizam arquivos como mecanismo de persistência de dados. \n",
    "Com arquivos, os dados podem ser salvos e carregados da memória secundária (ex. disco rígido).\n",
    "\n",
    "## Abrindo Arquivos\n",
    "Para trabalhar com arquivos na linguagem Python, utilizamos a função `open `, que precisa de dois parâmetros:\n",
    "\n",
    "1. Uma string informando o caminho completo do arquivo a ser aberto.\n",
    "2. Uma string informando a forma de abertura do arquivo\n",
    " * Leitura: \"r\"\n",
    " * Escrita: \"w\"\n",
    " * Leitura e escrita: \"r+\"\n",
    " * Escrita acrescentando ao final do arquivo: \"a\"\n",
    "\n",
    "Todo arquivo é aberto como arquivo de texto, a não ser quando assinalado com (\"b\"), que abre o arquivo como binário.\n",
    "\n",
    "*Atenção:* As operações com arquivos sempre podem lançar exceções. Depois de utilizar o arquivo, sempre deve ser chamado o método `close` para liberar os recursos.\n",
    "\n",
    "## Abrindo um arquivo para leitura\n"
   ]
  },
  {
   "cell_type": "code",
   "execution_count": 23,
   "metadata": {},
   "outputs": [
    {
     "name": "stdout",
     "output_type": "stream",
     "text": [
      "<_io.TextIOWrapper name='test.txt' mode='r' encoding='UTF-8'>\n"
     ]
    }
   ],
   "source": [
    "try:\n",
    "    # Abrir o arquivo\n",
    "    arq = open('test.txt', 'r')\n",
    "    # Note que o objeto arq armazena o forma de abertura (\"r\") e o encoding (UTF-8)\n",
    "    print(arq)\n",
    "    arq.close()\n",
    "except Exception as err:\n",
    "    # A excepção será lançada, e.x., se o arquivo não existe ou \n",
    "    # não temos permissões para ler esse arquivo\n",
    "    print(err) "
   ]
  },
  {
   "cell_type": "markdown",
   "metadata": {},
   "source": [
    "No bloco de código a seguir, simplesmente imprimiremos linha por linha o arquivo "
   ]
  },
  {
   "cell_type": "code",
   "execution_count": 24,
   "metadata": {},
   "outputs": [
    {
     "name": "stdout",
     "output_type": "stream",
     "text": [
      "um\n",
      "\n",
      "dois\n",
      "\n",
      "três\n",
      "\n"
     ]
    }
   ],
   "source": [
    "try:\n",
    "    # Abrir o arquivo\n",
    "    arq = open('test.txt', 'r')\n",
    "    for linha in arq:\n",
    "      print(linha)\n",
    "    arq.close()\n",
    "except Exception as err:\n",
    "    print(err) "
   ]
  },
  {
   "cell_type": "markdown",
   "metadata": {},
   "source": [
    "A forma pythônica: utilizar `with...`"
   ]
  },
  {
   "cell_type": "code",
   "execution_count": 25,
   "metadata": {},
   "outputs": [
    {
     "name": "stdout",
     "output_type": "stream",
     "text": [
      "um\n",
      "\n",
      "dois\n",
      "\n",
      "três\n",
      "\n"
     ]
    }
   ],
   "source": [
    "# Abre o arquivo e, quando terminar o bloco with, \n",
    "# o método `close` é executado\n",
    "with open('test.txt') as arq:\n",
    "    for linha in arq:\n",
    "        print(linha)"
   ]
  },
  {
   "cell_type": "markdown",
   "metadata": {},
   "source": [
    "## Arquivos e geradores \n",
    "\n",
    "Para facilitar as coisas (e evitar problemas de memória com arquivos grandes) vamos utilizar uma função geradora para produzir, de forma preguiçosa, cada uma das linhas do arquivo."
   ]
  },
  {
   "cell_type": "code",
   "execution_count": 13,
   "metadata": {},
   "outputs": [
    {
     "name": "stdout",
     "output_type": "stream",
     "text": [
      "['um\\n', 'dois\\n', 'três\\n']\n"
     ]
    }
   ],
   "source": [
    "def obterDados(arquivo):\n",
    "    '''Gera cada uma das linhas no arquivo'''\n",
    "    with open(arquivo) as arq:\n",
    "        for linha in arq:\n",
    "            yield linha\n",
    "\n",
    "test = obterDados('test.txt')\n",
    "print(list(test))"
   ]
  },
  {
   "cell_type": "markdown",
   "metadata": {},
   "source": [
    "Note que o caracter `\\n` (new line) aparece no final de cada saída. Podemos utilizar map ou expressões geradoras para ignorar esse último caractere "
   ]
  },
  {
   "cell_type": "code",
   "execution_count": 26,
   "metadata": {},
   "outputs": [
    {
     "name": "stdout",
     "output_type": "stream",
     "text": [
      "['um', 'dois', 'três']\n",
      "['um', 'dois', 'três']\n",
      "['um', 'dois', 'três']\n"
     ]
    }
   ],
   "source": [
    "# Utilizando Map\n",
    "testn = obterDados('test.txt')\n",
    "test = map(lambda s: s[0:-1], testn)\n",
    "print(list(test))\n",
    "\n",
    "# Utilizando uma expressõa geradora\n",
    "test = ( s[0:-1] for s in obterDados('test.txt') )\n",
    "print(list(test))\n",
    "\n",
    "# Ou diretamente compreensão de listas\n",
    "print([s[0:-1] for s in obterDados('test.txt')])\n",
    "\n"
   ]
  },
  {
   "cell_type": "markdown",
   "metadata": {},
   "source": [
    "---\n",
    "## Arquivos CSV\n",
    "O formato CSV (Comma-separated values) é um tipo de arquivo de texto muito utilizado para transferir informações entre aplicativos/sistemas. Um exemplo simples de um arquivo CSV seria:\n",
    "```\n",
    "nome,email\n",
    "carlos,x@gmail.com\n",
    "joao,y@gmail.com\n",
    "```\n",
    "\n",
    "O pacote `csv` de Python oferece uma forma simples de abrir e ler arquivos CSV:\n"
   ]
  },
  {
   "cell_type": "code",
   "execution_count": 27,
   "metadata": {},
   "outputs": [
    {
     "name": "stdout",
     "output_type": "stream",
     "text": [
      "[['carlos', 'x@gmail.com'], ['joao', 'y@gmail.com']]\n"
     ]
    }
   ],
   "source": [
    "import csv\n",
    "\n",
    "def lerDados(arquivo):\n",
    "    '''Gerar dados desde um arquivo CSV'''\n",
    "    with open(arquivo) as cvsfile:\n",
    "        cr = csv.reader(cvsfile)\n",
    "        _ = next(cr) # Ignoramos a primeira linha com os nomes das coluna\n",
    "        for linha in cr:\n",
    "            yield linha\n",
    "            \n",
    "print([x for x in lerDados('test.csv')])\n"
   ]
  },
  {
   "cell_type": "markdown",
   "metadata": {},
   "source": [
    "Note que cada elemento gerado é uma lista contendo os 2 atributos armazenados no arquivo "
   ]
  },
  {
   "cell_type": "markdown",
   "metadata": {},
   "source": [
    "A seguir, uma transformação simples para visualizar só o email:"
   ]
  },
  {
   "cell_type": "code",
   "execution_count": 22,
   "metadata": {},
   "outputs": [
    {
     "name": "stdout",
     "output_type": "stream",
     "text": [
      "['x@gmail.com', 'y@gmail.com']\n"
     ]
    }
   ],
   "source": [
    "print( [x[1] for x in lerDados('test.csv')])"
   ]
  },
  {
   "cell_type": "markdown",
   "metadata": {},
   "source": [
    "\n",
    "## Analisando owid-covid-data.csv\n",
    "\n",
    "Abra num editor de texto (ou planilha como OpenOffice/Excel) o arquivo `owid-covid-data-topicos.csv`. Esse arquivo foi modificado, em particular, muitas colunas formam eliminadas para facilitar o exercício. Os arquivos originais e atualizados dia a dia podem ser encontrados em https://covid.ourworldindata.org/\n",
    "\n",
    "\n",
    "A continuação vamos realizar várias operações e análises com esses dados. Em cada caso, crie uma função para implementar a funcionalidade solicitada. Depois teste a função no bloco principal. \n",
    "\n",
    "1. Liste os 20 primeiros elementos do arquivo para conhecer um pouco melhor a estrutura dele. Para isso, utilize a função `islice` do pacote `itertools`\n",
    "\n",
    "2. Implemente uma função que filtre as informações e gere só os dados do Brasil. A função deve ser uma função geradora e ela não deve criar/materializar a sequência numa lista. \n",
    "\n",
    "3. Implemente outra função para gerar tuplas (D, N) onde N é o número de casos (new_cases) contabilizados na data D. Note que N deve ser um número inteiro (e não uma string). Você vai perceber que algumas células da tabela estão vazias na coluna \"new_cases\". Nesse caso, o valor de N deve ser 0. Utilize a função implementada para imprimir o número de casos diários no Brasil assim:\n",
    "\n",
    "```\n",
    "...\n",
    "2021-03-07 --> 80508\n",
    "2021-03-08 --> 32321\n",
    "2021-03-09 --> 70764\n",
    "```\n",
    "\n",
    "4. Em Python podemos utilizar a classe datetime https://docs.python.org/pt-br/3/library/datetime.html para manipular datas. \n",
    "\n",
    "Podemos construir uma data assim\n",
    "\n",
    "```\n",
    "from datetime import date\n",
    "d = date(2021,3,11)\n",
    "```\n",
    "\n",
    "Também, podemos utilizar uma string para construir uma data:\n",
    "\n",
    "```\n",
    "d = date.fromisoformat('2021-03-11')\n",
    "```\n",
    "\n",
    "Modifique a função do item 3 para que D seja um objeto tipo Date (e N um int)\n",
    "\n",
    "5. Os objetos tipo Date podem ser comparados como esperado:\n",
    "\n",
    "```\n",
    "d1 = date(2021,3,11)\n",
    "d2 = date(2021,3,10)\n",
    ">>> d1 < d2\n",
    "False\n",
    "```\n",
    "\n",
    "Também, podemos acessar os atributos da data utilizando o operador ponto:\n",
    "\n",
    "```\n",
    ">>> d2.month\n",
    "3\n",
    "```\n",
    "\n",
    "Filtre ainda mais as informações para visualizar os dados do Brasil considerando só o presente mês. Utilize o método datetime.today() para retornar a data atual.\n",
    "\n",
    "\n",
    "6. Quantos novos casos aconteceram na Asia no dia 2021-01-01? E na Europa no dia 2021-02-02?\n",
    "\n",
    "7. Utilize a função `reduce` (do pactote functools) para retornar o dia no qual o Brasil registrou mais casos novos. \n",
    "\n",
    "\n"
   ]
  }
 ],
 "metadata": {
  "kernelspec": {
   "display_name": "Python 3",
   "language": "python",
   "name": "python3"
  },
  "language_info": {
   "codemirror_mode": {
    "name": "ipython",
    "version": 3
   },
   "file_extension": ".py",
   "mimetype": "text/x-python",
   "name": "python",
   "nbconvert_exporter": "python",
   "pygments_lexer": "ipython3",
   "version": "3.8.6"
  }
 },
 "nbformat": 4,
 "nbformat_minor": 4
}
