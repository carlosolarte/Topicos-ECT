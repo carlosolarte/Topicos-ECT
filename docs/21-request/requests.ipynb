{
 "cells": [
  {
   "cell_type": "markdown",
   "metadata": {},
   "source": [
    "# Sockets e Requests\n",
    "\n",
    "## Objetivos\n",
    " - Apresentar os conceitos básicos de programação para redes usando sockets.\n",
    " - Utilizar a biblioteca ```socket``` de Python para comunicar 2 (o mais) aplicações.\n",
    " - Utilizar o pacote ```requests``` para consumir APIs REST\n",
    " \n",
    "\n",
    "## O protocolo TCP/IP\n",
    "\"*O TCP (acrônimo para o inglês Transmission Control Protocol, que significa \"Protocolo de Controle de Transmissão\") é um dos protocolos sob os quais assenta a Internet. Ele é complementado pelo Protocolo da Internet, sendo normalmente chamado de TCP/IP.*\" ([Wikipedia](https://pt.wikipedia.org/wiki/Transmission_Control_Protocol))"
   ]
  },
  {
   "cell_type": "markdown",
   "metadata": {},
   "source": [
    "### Portas\n",
    "- O endereço **IP** é utilizado para identificar uma máquina. Por exemplo, 127.0.0.1 é o endereço da própria máquina (local host). Outros exemplos de endereços IP: 142.250.79.46. \n",
    "- A **porta** (número entre 0 e 65535) identifica um serviço (aplicação) em uma máquina. Por exemplo:\n",
    "  - Porta 80: Padrão para HTTP\n",
    "  - Porta 20/21: FTP\n",
    "  - Porta 22: SSH\n",
    "  \n",
    "## Sockets em Python\n",
    "Vamos implementar um sistema simples que comunica um cliente e um servidor. Em cada passo, acrescentaremos mais funcionalidades ao sistema. \n",
    "\n",
    "O esquema geral de interação entre os dois programas (cliente e servidor) pode ser descrito como:\n",
    "\n",
    "![Versão 1.0](app1.png)\n",
    "\n",
    "\n",
    "### Versão 1.0\n",
    "Nesta versão conectaremos o cliente e o servidor. O servidor simplesmente imprimirá uma mensagem na tela. \n"
   ]
  },
  {
   "cell_type": "markdown",
   "metadata": {},
   "source": [
    "> *Sockets*: Permitem acessar aos serviços de red.  Oferecem intercomunicação bidirecional entre processos.  \n"
   ]
  },
  {
   "cell_type": "markdown",
   "metadata": {},
   "source": [
    "Do lado do **servidor**\n",
    " - Abrir uma porta (método ```bind```)\n",
    " - Esperar as conexões dos clientes (método ```listen```).\n",
    " - Aceitar coneções (método ``` accept```).\n",
    " - Enviar e receber dados \n",
    " - Fechar a conexão / socket\n",
    "\n",
    "Do lado do **cliente**\n",
    " - Criar um socket (especificando o endereço IP e a porta do servidor)\n",
    " - Conecta-se ao servidor (método ```connect```)\n",
    " - Enviar e receber dados \n",
    " - Fechar a conexão / socket\n"
   ]
  },
  {
   "cell_type": "markdown",
   "metadata": {},
   "source": [
    "#### Servidor\n",
    "\n",
    "Utilizaremos como endereço IP ```127.0.0.1``` (ou ```localhost```) que é o endereço da própria máquina. Para a porta, escolha um número entre 1024 - 65535. \n",
    "\n",
    "> **Nota**:  Uma porta não pode ser utiliza por dois serviços ao mesmo tempo. \n",
    "\n",
    "O servidor, por enquanto:\n",
    " - inicializa o serviço\n",
    " - espera conexões\n",
    " - Quando um cliente se conectar, imprime uma mensagem e termina a execução \n",
    " \n",
    "\n",
    "ver código e comentários no arquivo  v1/server.py\n",
    "\n",
    "#### Cliente\n",
    "\n",
    "O cliente deve utilizar um socket para estabelecer uma conexão com o servidor. \n",
    "\n",
    "ver código e comentários no arquivo v1/cliente.py\n",
    "\n",
    "Execute o servidor. Note que o programa está esperando por uma conexão. Execute depois o cliente. Tente executar o cliente sem o servidor... o que acontece ? "
   ]
  },
  {
   "cell_type": "markdown",
   "metadata": {},
   "source": [
    "### Versão 2.0\n",
    "\n",
    "Agora o servidor envia uma mensagem para o cliente (utilizando um socket), o cliente lê a mensagem e envia outra mensagem para o servidor. Depois dessa comunicação, os dois programas são encerrados. \n",
    "\n",
    "Ver o código na pasta v2.\n",
    "\n",
    "Note que acabamos de definir um protocolo que deve ser respeitado pelo cliente e o servidor:\n",
    " - Primeiro, o servidor enviar uma mensagem (e o cliente deve esperar essa mensagem)\n",
    " - Segundo, o cliente envia uma mensagem (e o servidor deve esperar essa mensagem) \n",
    " - Terceiro, a comunicação termina"
   ]
  },
  {
   "cell_type": "markdown",
   "metadata": {},
   "source": [
    "### Versão 3.0\n",
    "Nesta versão utilizamos [JSON](https://www.json.org/json-en.html) para enviar/receber informações (ver pasta v3). \n",
    "\n",
    "JSON (JavaScript Object Notation) é um formato de troca de dados entre sistemas. A formatação é muito simples. Por exemplo:\n",
    "\n",
    "```\n",
    "{\n",
    " \"disciplinas\" : \n",
    "  [\n",
    "    { \"cod\" : \"ECT-2101\", \"nome\" : \"Lógica de Programação\"},\n",
    "    { \"cod\" : \"ECT-2103\", \"nome\" : \"Linguagens de Programação\"}\n",
    "  ]\n",
    "}\n",
    "```\n",
    "\n",
    "Percebe a similaridade com os dicionários de Python!\n",
    "\n",
    "No formato JSON, podemos especificar:\n",
    "\n",
    " - Números\n",
    " - Strings\n",
    " - Booleanos (true/false)\n",
    " - Listas, com a notação usual [ ... ]\n",
    " - O valor nulo (null)\n",
    " - Objetos, representados como pares atributo-valor (como os dicionários de Python)\n",
    "\n",
    "O pacote json de Python permite converter strings (ou arquivos) JSON para dicionários Python e vice-versa. Seguem alguns exemplos:"
   ]
  },
  {
   "cell_type": "code",
   "execution_count": null,
   "metadata": {},
   "outputs": [],
   "source": [
    "import json\n",
    "\n",
    "# Dicionário\n",
    "info = {\n",
    " \"disciplinas\" : \n",
    "  [\n",
    "    { \"cod\" : \"ECT-2101\", \"nome\" : \"Lógica de Programação\"},\n",
    "    { \"cod\" : \"ECT-2103\", \"nome\" : \"Linguagens de Programação\"}\n",
    "  ]\n",
    "}\n",
    "\n",
    "# json_info é uma string\n",
    "json_info = json.dumps(info)\n",
    "print(json_info)\n",
    "\n",
    "# Também, dada uma string representando um objeto JSON, podemos obter um dicionário\n",
    "\n",
    "json_str = '{\"disciplinas\": [{\"cod\": \"ECT-2101\", \"nome\": \"L\\u00f3gica de Programa\\u00e7\\u00e3o\"}, {\"cod\": \"ECT-2103\", \"nome\": \"Linguagens de Programa\\u00e7\\u00e3o\"}]}'\n",
    "# d é um dicionário\n",
    "d = json.loads(json_str)\n",
    "print(d)\n"
   ]
  },
  {
   "cell_type": "markdown",
   "metadata": {},
   "source": [
    "Na versão 3.0, o servidor armazena em um dicionário todas as conexões relizadas pelos clientes. Quando um novo cliente se conectar, o servidor envia um objeto JSON com a lista de todas as conexões. O cliente recebe essa string e a imprime na tela (depois de transforma-la em um dicionário). "
   ]
  },
  {
   "cell_type": "markdown",
   "metadata": {},
   "source": [
    "## Requests\n",
    "\n",
    "Existem abstrações mais interessantes (e fáceis de utilizar) para estabelecer conexões HTTP e intercambiar dados. As APIs [REST](https://www.redhat.com/pt-br/topics/api/what-is-a-rest-api) (Representational State Transfer) são APIs que seguem certos padrões de design e permitem manipular informações utilizando o protocolo HTTP e, como saída, podem enviar dados em diferentes formatos como JSON, XML, HTML, etc. Basicamente, realizamos solicitações a um servidor, enviamos alguns parâmetros nessa solicitação, e recebemos os dados (JSON, HTML, etc). \n",
    "\n",
    "Neste primeiro exemplo, não utilizaremos uma API REST. Utilizaremos o pacote request para acessar uma página web."
   ]
  },
  {
   "cell_type": "code",
   "execution_count": null,
   "metadata": {},
   "outputs": [],
   "source": [
    "import requests\n",
    "response = requests.get(\"http://google.com\")\n",
    "if response.status_code == 200:\n",
    "    # Imprimindo os primeiros caracteres do código HTML da página da google\n",
    "    print(response.text[:50])"
   ]
  },
  {
   "cell_type": "markdown",
   "metadata": {},
   "source": [
    "Um exemplo mais interessante  é utilizar alguma das muitas APIs RESTful que permitem obter diferentes informações. Por exemplo, no [Rest Countries](https://restcountries.eu/) podemos realizar várias consultas relacionadas com países. Note que, na especificação da API, os criadores detalham as diferentes consultas (e parâmetros) que podem ser utilizadas. "
   ]
  },
  {
   "cell_type": "code",
   "execution_count": null,
   "metadata": {},
   "outputs": [],
   "source": [
    "# Podemos obter a lista de todos os países (em formato JSON)\n",
    "url = \"https://restcountries.eu/rest/v2/all\"\n",
    "response = requests.get(url)\n",
    "# No protocolo HTTP, 200 significa OK\n",
    "if response.status_code == 200: \n",
    "    # Criar um dicionário a partir da string JSON\n",
    "    res = json.loads(response.text) \n",
    "    # print(res) \n",
    "    for c in res:\n",
    "        print(c[\"name\"], c[\"capital\"])\n"
   ]
  },
  {
   "cell_type": "markdown",
   "metadata": {},
   "source": [
    "Lendo a documentação da API, podemos ver que existem diferentes tipos de consultas que podem ser feitas. Por exemplo, podemos listar os países de língua portuguesa: "
   ]
  },
  {
   "cell_type": "code",
   "execution_count": null,
   "metadata": {},
   "outputs": [],
   "source": [
    "# note que na URL está definida a consulta: lang (lingua), pr (português)\n",
    "\n",
    "url = \"https://restcountries.eu/rest/v2/lang/pt\"\n",
    "response = requests.get(url)\n",
    "if response.status_code == 200:\n",
    "    res = json.loads(response.text)\n",
    "    # print(res) \n",
    "    for c in res:\n",
    "        print(c[\"name\"], c[\"capital\"])\n"
   ]
  },
  {
   "cell_type": "code",
   "execution_count": null,
   "metadata": {},
   "outputs": [],
   "source": [
    "# Um exemplo de um query que não foi bem sucedido (pr não existe como lingua)\n",
    "url = \"https://restcountries.eu/rest/v2/lang/pr\"\n",
    "response = requests.get(url)\n",
    "if response.status_code == 200:\n",
    "    res = json.loads(response.text)\n",
    "    # print(res) \n",
    "    for c in res:\n",
    "        print(c[\"name\"], c[\"capital\"])\n",
    "else:\n",
    "    print(response.text) #  Note que status = 404 (Bad Request)\n"
   ]
  },
  {
   "cell_type": "markdown",
   "metadata": {},
   "source": [
    "Algumas APIs precisam de parâemtros para realizar as consultas. Por exemplo, a [Open Library Books API](https://openlibrary.org/dev/docs/api/books) pode ser utilizada como a seguir: "
   ]
  },
  {
   "cell_type": "code",
   "execution_count": null,
   "metadata": {},
   "outputs": [],
   "source": [
    "import shutil\n",
    "\n",
    "url = \"https://openlibrary.org/api/books?bibkeys=ISBN:0299186547&format=json\"\n",
    "response = requests.get(url)\n",
    "if response.status_code == 200:\n",
    "    res = json.loads(response.text)\n",
    "    print(res) \n",
    "    \n",
    "#No protocolo HTTP, depois de ?, seguem os parâmetros da consulta. Neste caso, bibkeys e format. \n",
    "\n",
    "#Uma forma mais simples:\n",
    "parametros = {\n",
    "    'bibkeys' : 'ISBN:0299186547',\n",
    "    'format': 'json'}\n",
    "\n",
    "url = \"https://openlibrary.org/api/books?\"\n",
    "response = requests.get(url,parametros)\n",
    "if response.status_code == 200:\n",
    "    res = json.loads(response.text)\n",
    "    print(res) \n",
    "\n",
    "# Note que uma das informações é \"thumbnail_url\". Podemos baixar essa imágem utilizando requests\n",
    "response = requests.get(url,parametros)\n",
    "if response.status_code == 200:\n",
    "    res = json.loads(response.text)\n",
    "    imgurl = res['ISBN:0299186547']['thumbnail_url']\n",
    "    resimg = requests.get(imgurl, stream=True)\n",
    "    if resimg.status_code == 200:\n",
    "            with open('img.jpg', 'wb') as arquivo:\n",
    "                shutil.copyfileobj(resimg.raw, arquivo)\n",
    "                print('Imagem armazenada')\n",
    "\n",
    "\n",
    "\n",
    "    "
   ]
  },
  {
   "cell_type": "code",
   "execution_count": null,
   "metadata": {},
   "outputs": [],
   "source": []
  }
 ],
 "metadata": {
  "kernelspec": {
   "display_name": "Python 3",
   "language": "python",
   "name": "python3"
  },
  "language_info": {
   "codemirror_mode": {
    "name": "ipython",
    "version": 3
   },
   "file_extension": ".py",
   "mimetype": "text/x-python",
   "name": "python",
   "nbconvert_exporter": "python",
   "pygments_lexer": "ipython3",
   "version": "3.7.3"
  }
 },
 "nbformat": 4,
 "nbformat_minor": 4
}
