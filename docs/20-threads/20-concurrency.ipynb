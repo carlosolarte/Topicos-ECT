{
 "cells": [
  {
   "cell_type": "markdown",
   "id": "04811590",
   "metadata": {},
   "source": [
    "# Threads, MultiProcess e AsyncIO\n",
    "\n",
    "## Threads\n",
    "As *threads* permitem a execução de código de forma concorrente (compartilhando o tempo do processador). Segue um exemplo simples. Primeiro, a versão sequencial."
   ]
  },
  {
   "cell_type": "code",
   "execution_count": 1,
   "id": "8ccd413f",
   "metadata": {},
   "outputs": [
    {
     "name": "stdout",
     "output_type": "stream",
     "text": [
      "De 1 a 3. Valor atual: 1\n",
      "De 1 a 3. Valor atual: 2\n",
      "De 4 a 6. Valor atual: 4\n",
      "De 4 a 6. Valor atual: 5\n"
     ]
    }
   ],
   "source": [
    "# Versão sequencial\n",
    "import time\n",
    "def tarefa(ini,fim):\n",
    "    for i in range(ini,fim):\n",
    "        print(f'De {ini} a {fim}. Valor atual: {i}')\n",
    "        time.sleep(1)\n",
    "        \n",
    "\n",
    "tarefa(1,3)\n",
    "# a primeira chamada deve terminar antes de \n",
    "# começar a execução da segunda chamada\n",
    "tarefa(4,6)    "
   ]
  },
  {
   "cell_type": "markdown",
   "id": "a5c2fb65",
   "metadata": {},
   "source": [
    "No código a seguir, cada chamada à função `tarefa` é executada em uma thread diferente. Assim, enquanto uma das tarefas está dormindo (`sleep`), a outra pode ser executada. "
   ]
  },
  {
   "cell_type": "code",
   "execution_count": 3,
   "id": "975c98f0",
   "metadata": {},
   "outputs": [
    {
     "name": "stdout",
     "output_type": "stream",
     "text": [
      "Antes de iniciar\n",
      "De 1 a 5. Valor atual: 1\n",
      "De 6 a 10. Valor atual: 6\n",
      "Depois de T1 e T2\n",
      "De 1 a 5. Valor atual: 2\n",
      "De 6 a 10. Valor atual: 7\n",
      "De 1 a 5. Valor atual: 3De 6 a 10. Valor atual: 8\n",
      "\n",
      "De 1 a 5. Valor atual: 4De 6 a 10. Valor atual: 9\n",
      "\n"
     ]
    }
   ],
   "source": [
    "# Versão concorrente utilizando Threads \n",
    "import threading\n",
    "\n",
    "# Criar as threads\n",
    "# Mais um exemplo de uma função de ordem superior!\n",
    "T1 = threading.Thread(target=tarefa, args=(1,5))\n",
    "T2 = threading.Thread(target=tarefa, args=(6,10))\n",
    "\n",
    "# Neste ponto, a execução da função ainda não começou \n",
    "print ('Antes de iniciar')\n",
    "# Iniciar a execução \n",
    "T1.start()\n",
    "T2.start()\n",
    "\n",
    "print(\"Depois de T1 e T2\")"
   ]
  },
  {
   "cell_type": "markdown",
   "id": "06e03ccb",
   "metadata": {},
   "source": [
    "Note que a mensagem \"Depois de T1 e T2\" não aparece (necessariamente) depois de terminar T1 e T2. De fato: `T1.start` inicializa a thread e permite que a próxima instrução seja executada \n",
    "\n",
    "Para _esperar_ pela terminação de uma thread, podemos utilizar `join`:"
   ]
  },
  {
   "cell_type": "code",
   "execution_count": 4,
   "id": "62d0e3b0",
   "metadata": {},
   "outputs": [
    {
     "name": "stdout",
     "output_type": "stream",
     "text": [
      "De 1 a 5. Valor atual: 1\n",
      "De 6 a 10. Valor atual: 6\n",
      "De 1 a 5. Valor atual: 2\n",
      "De 6 a 10. Valor atual: 7\n",
      "De 1 a 5. Valor atual: 3\n",
      "De 6 a 10. Valor atual: 8\n",
      "De 1 a 5. Valor atual: 4\n",
      "De 6 a 10. Valor atual: 9\n",
      "Depois de T1 e T2\n"
     ]
    }
   ],
   "source": [
    "import threading\n",
    "# Criar as threads\n",
    "T1 = threading.Thread(target=tarefa, args=(1,5))\n",
    "T2 = threading.Thread(target=tarefa, args=(6,10))\n",
    "\n",
    "# Iniciar a execução \n",
    "T1.start()\n",
    "T2.start()\n",
    "\n",
    "# Esperar por terminação\n",
    "T1.join()\n",
    "T2.join()\n",
    "print(\"Depois de T1 e T2\")"
   ]
  },
  {
   "cell_type": "markdown",
   "id": "eaad4ae7",
   "metadata": {},
   "source": [
    "## Recursos compartilhados \n",
    "Com grandes poderes vêm grandes responsabilidades:"
   ]
  },
  {
   "cell_type": "code",
   "execution_count": 7,
   "id": "bef599a3",
   "metadata": {},
   "outputs": [
    {
     "name": "stdout",
     "output_type": "stream",
     "text": [
      "Resultado seq: 0\n",
      "Resultado concorrente: -239831\n"
     ]
    }
   ],
   "source": [
    "import threading\n",
    "# Variável global (compartilhada pelas 2 threads)\n",
    "soma = 0\n",
    "\n",
    "def calcularsoma(step,n ):\n",
    "    ''' calcular sum +=  step + step + step ...  n vezes '''\n",
    "    global soma # considerar a variável externa/global\n",
    "    for i in range(n):\n",
    "        soma = soma + step\n",
    "\n",
    "# +1 1000000 vezes e -1 1000000 vezes\n",
    "sum1 = threading.Thread(target=calcularsoma, args=(1,1000000,))\n",
    "sum2 = threading.Thread(target=calcularsoma, args=(-1,1000000,))\n",
    "\n",
    "# Versão seqüencial\n",
    "sum1.start()\n",
    "sum1.join()\n",
    "sum2.start()\n",
    "sum2.join()\n",
    "\n",
    "print(f'Resultado seq: {soma}')\n",
    "\n",
    "soma = 0 \n",
    "# Versão concorrente \n",
    "sum1 = threading.Thread(target=calcularsoma, args=(1,1000000,))\n",
    "sum2 = threading.Thread(target=calcularsoma, args=(-1,1000000,))\n",
    "\n",
    "sum1.start()\n",
    "sum2.start()\n",
    "# Esperar terminação \n",
    "sum1.join()\n",
    "sum2.join()\n",
    "\n",
    "print(f'Resultado concorrente: {soma}')\n"
   ]
  },
  {
   "cell_type": "markdown",
   "id": "b0178090",
   "metadata": {},
   "source": [
    "Note que o nosso programa é *não determinístico*: não podemos predizer o resultado final!\n",
    "\n",
    "Neste caso, a variável global `soma` é um recurso compartilhado pelas duas threads. O uso desse recurso deve ser controlado: Em quanto executamos `soma = soma + step`, a outra thread não pode estar modificando o valor de `soma`. \n",
    "\n",
    "Podemos utilizas `Locks` para proteger o acesso concorrente aos dados: "
   ]
  },
  {
   "cell_type": "code",
   "execution_count": 9,
   "id": "fa990ae0",
   "metadata": {},
   "outputs": [
    {
     "name": "stdout",
     "output_type": "stream",
     "text": [
      "Resultado concorrente: 0\n"
     ]
    }
   ],
   "source": [
    "import threading\n",
    "\n",
    "soma = 0\n",
    "\n",
    "# Criar um Lock\n",
    "L = threading.Lock()\n",
    "\n",
    "def calcularsoma(step,n ):\n",
    "    ''' calcular sum + step + step .... n times '''\n",
    "    global soma\n",
    "    for i in range(n):\n",
    "        #Antes de utilizar uma variável compartilhada, a thread\n",
    "        #deve adquirir o lock\n",
    "        L.acquire() \n",
    "        soma = soma + step\n",
    "        # Depois  de utilizar o recurso, a thread libera o lock \n",
    "        #(para que as outras threads possam ter acesso a ele)\n",
    "        L.release() \n",
    "        \n",
    "sum1 = threading.Thread(target=calcularsoma, args=(1,1000000,))\n",
    "sum2 = threading.Thread(target=calcularsoma, args=(-1,1000000,))\n",
    "\n",
    "# Versão concorrente \n",
    "sum1.start()\n",
    "sum2.start()\n",
    "\n",
    "# Esperar terminação \n",
    "sum1.join()\n",
    "sum2.join()\n",
    "\n",
    "print(f'Resultado concorrente: {soma}')\n"
   ]
  },
  {
   "cell_type": "markdown",
   "id": "e3d03104",
   "metadata": {},
   "source": [
    "## Multiprocessing\n",
    "\n",
    "O GIL (Global Interpreter Lock) de Python controla a execução das threads. Por simplicidade e robustez, o GIL só permite que uma thread tenha o controle da execução do interpretador. Se uma thread está esperando por operações de I/O (disco, rede, entrada de um usuário), o interpretador passa o controle a outra thread. Isto significa que as threads podem melhorar o desempenho de aplicações que utilizam frequentemente operações de entrada e saída.  Porém, quando as diferentes tarefas requerem o tempo do processador (por exemplo, cálculos complexos), adicionar threads não vai melhorar muito o desempenho. \n",
    "\n",
    "Uma alternativa aos threads em Python é o uso da biblioteca [multiprocessing](https://docs.python.org/3/library/multiprocessing.html) que permite executar  em paralelo (utilizando, por exemplo, os vários núcleos do processador) várias tarefas. Uma diferência fundamental entre threads e processos é que todos os threads criados compartilham o mesmo espaço na memória (como no caso da variável `soma`).  A comunicação entre os processos de multiprocessing deve ser implementada intercambiando \tmensagens o utilizando estruturas de dados como Filas. "
   ]
  },
  {
   "cell_type": "code",
   "execution_count": 15,
   "id": "11ebf610",
   "metadata": {},
   "outputs": [
    {
     "name": "stdout",
     "output_type": "stream",
     "text": [
      "[]\n"
     ]
    }
   ],
   "source": [
    "from multiprocessing import Process\n",
    "\n",
    "l = []\n",
    "\n",
    "def add(n):\n",
    "    ''' adicionar 0..n-1 na lista l'''\n",
    "    global l # Não comparilhada pelos 2 processos!\n",
    "    for i in range(n):\n",
    "        l.append(i)\n",
    "\n",
    "if __name__ == \"__main__\"    :\n",
    "    # Criando os processos         \n",
    "    p1 = Process(target=add,args=(3,)) \n",
    "    p2 = Process(target=add,args=(5,)) \n",
    "\n",
    "    # Iniciando as tarefas\n",
    "    p1.start()\n",
    "    p2.start()\n",
    "\n",
    "    # Esperando por terminaç˜åo\n",
    "    p1.join()\n",
    "    p2.join()\n",
    "    print(l) # Continua vazia!\n",
    "        "
   ]
  },
  {
   "cell_type": "code",
   "execution_count": 16,
   "id": "884c84d0",
   "metadata": {},
   "outputs": [
    {
     "name": "stdout",
     "output_type": "stream",
     "text": [
      "[0, 1, 2, 0, 1, 2, 3, 4]\n"
     ]
    }
   ],
   "source": [
    "# O mesmo código utilizando threads\n",
    "l = []\n",
    "\n",
    "def add(n):\n",
    "    ''' adicionar 0..n-1 na lista l'''\n",
    "    global l # Compartilhada pelos dois processos\n",
    "    for i in range(n):\n",
    "        l.append(i)\n",
    "\n",
    "        \n",
    "p1 = threading.Thread(target=add,args=(3,)) \n",
    "p2 = threading.Thread(target=add,args=(5,)) \n",
    "p1.start()\n",
    "p2.start()\n",
    "p1.join()\n",
    "p2.join()\n",
    "print(l) \n",
    "        "
   ]
  },
  {
   "cell_type": "markdown",
   "id": "80de92f3",
   "metadata": {},
   "source": [
    "Atenção! Várias threads atualizando a mesma lista pode resultar em saídas não esperadas:"
   ]
  },
  {
   "cell_type": "code",
   "execution_count": 17,
   "id": "740fe499",
   "metadata": {},
   "outputs": [
    {
     "name": "stdout",
     "output_type": "stream",
     "text": [
      "[15, 15, 19, 17, 17, 23, 20, 23, 24, 24, 24, 28, 28, 32, 29, 32, 37, 39, 40, 45]\n"
     ]
    }
   ],
   "source": [
    "l = list(range(1,21))\n",
    "\n",
    "def inc(v):\n",
    "    time.sleep(0.01)\n",
    "    return v+1\n",
    "\n",
    "def add():\n",
    "    global l\n",
    "    for i,_ in enumerate(l):\n",
    "        l[i] = inc(l[i])\n",
    "        \n",
    "\n",
    "n = 1000\n",
    "thrs = [threading.Thread(target=add) for _ in range(n)]         \n",
    "for t in thrs:\n",
    "    t.start()\n",
    "for t in thrs:\n",
    "    t.join()\n",
    "    \n",
    "print(l)    \n",
    "    "
   ]
  },
  {
   "cell_type": "markdown",
   "id": "8aed7d6a",
   "metadata": {},
   "source": [
    "## Concorrência Declarativa / Funcional \n",
    "\n",
    "A grande vantagem da programação funcional é a ausência de efeitos colaterais: duas chamadas à mesma função (com os mesmos parâmetros), sempre retorna o mesmo valor. Se cada processo ou thread não interfere com o outro (e não compartilham informações), situações inesperadas não deveriam acontecer. Segue um exemplo utilizando `Pools`"
   ]
  },
  {
   "cell_type": "code",
   "execution_count": null,
   "id": "46e50640",
   "metadata": {},
   "outputs": [
    {
     "name": "stdout",
     "output_type": "stream",
     "text": [
      "Ini\n",
      "[2, 3, 4]\n",
      "Fim: 3.008370566999929\n",
      "Ini\n"
     ]
    }
   ],
   "source": [
    "from multiprocessing import Pool \n",
    "\n",
    "def inc(x):\n",
    "    time.sleep(1)\n",
    "    return x+1\n",
    "\n",
    "if __name__ == \"__main__\": \n",
    "    l = [1,2,3]\n",
    "    #=============\n",
    "    # Versão sequencial\n",
    "    print(f'Ini')\n",
    "    t1 = time.perf_counter()\n",
    "    print(list(map(inc,l)))\n",
    "    t2 =  time.perf_counter() - t1\n",
    "    print(f'Fim: {t2}')\n",
    "    \n",
    "    #======================\n",
    "    # versão paralela\n",
    "    print(f'Ini')\n",
    "    t1 = time.perf_counter()\n",
    "    with Pool(3) as p: \n",
    "        # Aplicar a mesma função (inc) a cada elemento da lista\n",
    "        # utilizando, quando possível, diferentes processos  \n",
    "        print(list(p.map(inc,l)))\n",
    "\n",
    "    t2 =  time.perf_counter() - t1\n",
    "    print(f'Fim: {t2}')        \n",
    "    \n"
   ]
  },
  {
   "cell_type": "markdown",
   "id": "f8ee0ca3",
   "metadata": {},
   "source": [
    "O comando `with Pool(3) as p` vai criar 3 processos (independentes) e cada um deles vai aplicar a função inc a um dos elementos da lista. \n",
    "\n",
    "Considere um programa que armazena em disco uma lista de URLs:"
   ]
  },
  {
   "cell_type": "code",
   "execution_count": null,
   "id": "a61c1e83",
   "metadata": {},
   "outputs": [
    {
     "name": "stdout",
     "output_type": "stream",
     "text": [
      "ini\n",
      "/var/folders/t3/ctllf82x6mz44rwlp8gqcjkw0000gn/T/tmpffe_862_\n",
      "/var/folders/t3/ctllf82x6mz44rwlp8gqcjkw0000gn/T/tmp07le2wif\n",
      "/var/folders/t3/ctllf82x6mz44rwlp8gqcjkw0000gn/T/tmpf8ssk_jx\n",
      "/var/folders/t3/ctllf82x6mz44rwlp8gqcjkw0000gn/T/tmpeocsk_tx\n",
      "/var/folders/t3/ctllf82x6mz44rwlp8gqcjkw0000gn/T/tmpi_i6kf1b\n",
      "Fim: 3.6276262499999987\n",
      "ini\n"
     ]
    }
   ],
   "source": [
    "import requests\n",
    "import tempfile\n",
    "import os\n",
    "import time\n",
    "from multiprocessing import Pool\n",
    "\n",
    "# A lista de URLs a serem salvas\n",
    "l = [\"https://docs.python.org/3/\",\n",
    "     \"https://ufrn.br/\",\n",
    "     \"https://www.uol.com.br/\",\n",
    "     \"http://learnyouahaskell.com/\",\n",
    "     \"https://sigaa.ufrn.br/\"]\n",
    "\n",
    "def download(url):\n",
    "    '''Armazenar a url em um arquivo temporal'''\n",
    "    res = requests.get(url)\n",
    "    if res.status_code == 200:\n",
    "        # Criar um arquivo temporal\n",
    "        arquivo, nome = tempfile.mkstemp()\n",
    "        # Salvar o conteúdo da página\n",
    "        with os.fdopen(arquivo, 'w') as tmp:\n",
    "            tmp.write(res.text)\n",
    "\n",
    "            \n",
    "    return nome\n",
    "\n",
    "if __name__ == \"__main__\":\n",
    "    # Versão sequencial\n",
    "    print('ini')\n",
    "    t1 = time.perf_counter()\n",
    "    for url in l:\n",
    "        print(download(url))\n",
    "\n",
    "    t2 =  time.perf_counter() - t1\n",
    "    print(f'Fim: {t2}')            \n",
    "\n",
    "    # Versão Concorrente\n",
    "    print('ini')\n",
    "    t1 = time.perf_counter()\n",
    "    with Pool(4) as p: \n",
    "        for arquivo in p.map(download,l):\n",
    "            print(arquivo)\n",
    "    t2 =  time.perf_counter() - t1\n",
    "    print(f'Fim: {t2}')                "
   ]
  },
  {
   "cell_type": "markdown",
   "id": "da25454f",
   "metadata": {},
   "source": [
    "## Asynchronous I/O\n",
    "\n",
    "As operações de I/O são relativamente mais lentas e, portanto, um gargalo. A sintaxe `async / await` (e o pacote asyncio) permitem especificar \"corrotinas\".  A ideia é simples: enquanto uma corrotina está esperando por  um resultado, o controle é transferido para as outras corrotinas para que sejam executadas. \n",
    "\n",
    "O *Loop de Eventos* se ocupa de gerenciar a execução concorrente de várias tarefas assíncronas. \n"
   ]
  },
  {
   "cell_type": "code",
   "execution_count": null,
   "id": "b4ae6a85",
   "metadata": {},
   "outputs": [],
   "source": [
    "import asyncio\n",
    "\n",
    "async def f():\n",
    "    ''''''\n",
    "    print('inicio')\n",
    "    # Note o uso de asyncio.sleep: a versão async de time.sleep\n",
    "    await asyncio.sleep(1)\n",
    "    print('fim')\n",
    "\n",
    "if __name__ == \"__main__\":\n",
    "    asyncio.run(f())"
   ]
  },
  {
   "cell_type": "code",
   "execution_count": null,
   "id": "c12fd073",
   "metadata": {},
   "outputs": [],
   "source": [
    "import asyncio\n",
    "\n",
    "# Notação async: g é uma coroutine\n",
    "async def g(n):\n",
    "    '''Antes de retornar n+1, espera por 1 segundo'''\n",
    "    print(f'inicio: {n}')\n",
    "    # await: esperar pela terminação de sleep\n",
    "    await asyncio.sleep(1)\n",
    "    print(f'fim: {n}')\n",
    "    return n+1\n",
    "\n",
    "async def f():\n",
    "    # Esperar pela execução de g(1)\n",
    "    x1 =  await g(1)\n",
    "    # Esperar pela execução de g(2)\n",
    "    x2 =  await g(2)\n",
    "    \n",
    "    print(f'resultado: {x1,x2}')\n",
    "\n",
    "if __name__ == \"__main__\":\n",
    "    asyncio.run(f())\n",
    "    # Note que f() não executa a função!\n",
    "    x = f()\n",
    "    print(x) # <coroutine object f at 0xxxxx>"
   ]
  },
  {
   "cell_type": "markdown",
   "id": "0f98a915",
   "metadata": {},
   "source": [
    "Note que `f()` não executa a função: Simplesmente retorna um objeto `coroutine`. Isso se parece bastante às funções geradoras! \n",
    "\n",
    "No exemplo anterior, note que as duas tarefas são executadas de forma sequencial porque a o comando `await` espera pela terminação (e retorno) da função. "
   ]
  },
  {
   "cell_type": "code",
   "execution_count": null,
   "id": "411885e2",
   "metadata": {},
   "outputs": [],
   "source": [
    "import asyncio\n",
    "\n",
    "async def g(n):\n",
    "    print(f'inicio: {n}')\n",
    "    await asyncio.sleep(1)\n",
    "    print(f'fim: {n}')\n",
    "    return n+1\n",
    "\n",
    "async def f():\n",
    "    t1 = asyncio.create_task(g(1))\n",
    "    t2 = asyncio.create_task(g(2))\n",
    "    # As tarefas foram criadas e começam a ser executadas\n",
    "\n",
    "    # Provavelmente a função ainda não determinou o valor de retorno.\n",
    "    # Esse valor é um \"future\". Para determinar esse valor, devemos esperar\n",
    "    await t1 \n",
    "    await t2\n",
    "    \n",
    "    #t1.result() é o resultado retornado pela função g(1)\n",
    "    print(f'resultado: {t1.result(),t2.result()}')\n",
    "\n",
    "if __name__ == \"__main__\":\n",
    "    asyncio.run(f())\n"
   ]
  },
  {
   "cell_type": "code",
   "execution_count": null,
   "id": "09b270de",
   "metadata": {},
   "outputs": [],
   "source": [
    "import asyncio\n",
    "\n",
    "# Uma forma mais simples de esperar por várias tarefas asíncronas\n",
    "\n",
    "async def g(n):\n",
    "    print(f'inicio: {n}')\n",
    "    await asyncio.sleep(1)\n",
    "    print(f'fim: {n}')\n",
    "    return n+1\n",
    "\n",
    "async def f():\n",
    "    # Uma formal alternativa utilizando gather\n",
    "    # g(1) e g(2) são executadas de maneira asíncrona\n",
    "    # e esperamos pelos resultados\n",
    "    r = await asyncio.gather(g(1), g(2))\n",
    "    print(r)\n",
    "    \n",
    " \n",
    "if __name__ == \"__main__\":\n",
    "    asyncio.run(f())\n"
   ]
  },
  {
   "cell_type": "code",
   "execution_count": null,
   "id": "733e8724",
   "metadata": {},
   "outputs": [],
   "source": [
    "# Um exemplo mais concreto utilizando aiohttp (para realizar solicitações HTTP assíncronas) \n",
    "# e aiofiles (para escrever de maneira assíncrona arquivos). \n",
    "import time\n",
    "\n",
    "# Framework async\n",
    "import aiohttp\n",
    "import asyncio\n",
    "import aiofiles\n",
    "\n",
    "# Só para testar a versão sequencial\n",
    "import shutil\n",
    "import requests\n",
    "\n",
    "async def salvar(session, url):\n",
    "    '''Salvar a imagem da url em disco'''\n",
    "    \n",
    "    fname=\"\" # Nome do arquivo\n",
    "    try:\n",
    "        async with session.get(url) as resp: # solicitação HTTP\n",
    "            if resp.status == 200:\n",
    "                fname = url[-5:] # Nome da imagem\n",
    "                f = await aiofiles.open(fname, mode='wb') # Esperar pela abertura  do arquivo\n",
    "                await f.write(await resp.read()) # esperar pela escrita do arquivo\n",
    "                await f.close() # fechar o arquivo\n",
    "                \n",
    "    except Exception as e:\n",
    "        print(e)\n",
    "\n",
    "    print(f'Imagem:  {fname}')    \n",
    "    return fname\n",
    "            \n",
    "async def salvarAll(l):\n",
    "    '''Salvar todas as imagens da lista'''\n",
    "    async with aiohttp.ClientSession() as session: # Criar a conexão \n",
    "        tarefas = (salvar(session,url) for url in l) # Adicionar as tarefas\n",
    "        t1 = time.perf_counter()\n",
    "        r = await asyncio.gather(*tarefas) # Executar todas as tarefas (e esperar)\n",
    "        t2 = time.perf_counter() - t1\n",
    "        print(f'Tempo async: {t2}')\n",
    "        \n",
    "def salvarSeq(l):\n",
    "    '''Versão sequencial'''\n",
    "    t1 = time.perf_counter()\n",
    "    for url in l:\n",
    "        res = requests.get(url,stream=True)\n",
    "        if res.status_code == 200:\n",
    "            fname = \"seq-\" + url[-5:]\n",
    "            with open(fname, 'wb') as arquivo:\n",
    "                shutil.copyfileobj(res.raw, arquivo)\n",
    "            print(fname)\n",
    "                \n",
    "    t2 = time.perf_counter() - t1\n",
    "    print(f'Tempo seq: {t2}')           \n",
    "            \n",
    "if __name__ == \"__main__\":\n",
    "    l = [\"http://people.csail.mit.edu/brussell/research/LabelMe/Images/boston_static_street/0002.jpg\",\n",
    "         \"http://people.csail.mit.edu/brussell/research/LabelMe/Images/boston_static_street/0003.jpg\",\n",
    "         \"http://people.csail.mit.edu/brussell/research/LabelMe/Images/boston_static_street/0004.jpg\",\n",
    "         \"http://people.csail.mit.edu/brussell/research/LabelMe/Images/boston_static_street/0006.jpg\",\n",
    "         \"http://people.csail.mit.edu/brussell/research/LabelMe/Images/boston_static_street/0007.jpg\"\n",
    "        ]\n",
    "    salvarSeq(l) # Versão sequencial       \n",
    "    asyncio.run(salvarAll(l)) # Versão async"
   ]
  },
  {
   "cell_type": "code",
   "execution_count": null,
   "id": "6573b40b",
   "metadata": {},
   "outputs": [],
   "source": []
  },
  {
   "cell_type": "code",
   "execution_count": null,
   "id": "71b9989d",
   "metadata": {},
   "outputs": [],
   "source": []
  }
 ],
 "metadata": {
  "kernelspec": {
   "display_name": "Python 3",
   "language": "python",
   "name": "python3"
  },
  "language_info": {
   "codemirror_mode": {
    "name": "ipython",
    "version": 3
   },
   "file_extension": ".py",
   "mimetype": "text/x-python",
   "name": "python",
   "nbconvert_exporter": "python",
   "pygments_lexer": "ipython3",
   "version": "3.9.4"
  }
 },
 "nbformat": 4,
 "nbformat_minor": 5
}
