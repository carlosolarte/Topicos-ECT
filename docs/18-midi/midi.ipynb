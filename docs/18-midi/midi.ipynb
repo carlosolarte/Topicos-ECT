{
 "cells": [
  {
   "cell_type": "markdown",
   "metadata": {},
   "source": [
    "# Sequências Musicais com Python\n",
    "\n",
    "Nesta aula vamos utilizar o pacote [MIDIUtil](https://pypi.org/project/MIDIUtil/) para produzir arquivos [Midi](https://en.wikipedia.org/wiki/General_MIDI) (Musical Instrument Digital Interface). Utilizaremos algumas das funções do pacote itertools para produzir improvisações musicais simples. \n",
    "\n",
    "Na primeira parte explicaremos rapidamente os conceitos de Teoria da Música necessários para entender os exercícios. Algumas referências interessantes para aprender um pouco de música programando:\n",
    "- [Haskell School of Music](http://euterpea.com/haskell-school-of-music/)\n",
    "- [Music for Geeks and Nerds](https://pedrokroger.net/mfgan/)\n",
    "\n",
    "Utilizei [midi2abc](https://manned.org/midi2abc/0b4697e7) e o pacote [abc](https://ctan.org/pkg/abc) para gerar as partituras dos exercícios. \n",
    "\n",
    "\n",
    "## Notas\n",
    "Existem 7 [notas musicais](https://pt.wikipedia.org/wiki/Nota_musical): Do, Re, Mi, Fá, Sol, La, Si\n",
    "\n",
    "Aqui vamos utilizar o sistema (padrão em ocidente) de cifras que utiliza letras para representar as notas musicais: C D E F G A B\n",
    "\n",
    "Existem duas alterações ou [acidentes cromáticos](https://pt.wikipedia.org/wiki/Acidente) dessas notas: # (sustenido) e b (bemol). Por exemplo C# denota Dó sustenido e Bb represente Si bemol. Note que C# e Db correspondem à mesma nota (igualmente D# e Eb, etc). \n",
    "\n",
    "<img src=\"img/notas-piano.png\">\n",
    "\n",
    "## Oitavas\n",
    "A sequência `C D E F G A B` se repete e cada repetição é conhecida como uma oitava. Por exemplo, C0 corresponde ao primeiro Dó no teclado, C1 ao segundo, C2 ao terceiro, etc. C4 normalmente é conhecido como Dó central. \n",
    "\n",
    "\n",
    "## Pentagrama\n",
    "O pentagrama ou [pauta](https://pt.wikipedia.org/wiki/Pauta_(m%C3%BAsica)) possui 5 linhas e 4 espaços. Segue um exemplo simples com a notação utilizada: \n",
    "<img src=\"img/pentagrama.png\">\n",
    "\n",
    "\n",
    "## Duração \n",
    "A unidade de medida da música é o tempo. Cada tempo corresponde a uma pulsação. Segue a representação normalmente utilizada: \n",
    "\n",
    "- semibreve (a unidade)\n",
    "- mínima  (1/2 da unidade)\n",
    "- semínima  (1/4 da unidade)\n",
    "- colcheia (1/8 da unidade)\n",
    "- semicolcheia  (1/16 da unidade)\n",
    "- fusa (1/32 da unidade)\n",
    "- semifusa (1/64 da unidade)\n",
    "\n",
    "A fórmula do compasso define a quantidade de notas e o tipo de notas que cada compasso pode ter. Por exemplo, 4/4 representa que cada cada compasso deve ter quatro semínimas e 3/4 define compassos com 3 semínimas. \n",
    "\n",
    "<img src=\"img/44.png\">\n",
    "\n",
    "<img src=\"img/24.png\">\n",
    "\n",
    "\n",
    "\n",
    "## Tons e semitons \n",
    "\n",
    "No formato [Midi](https://pt.wikipedia.org/wiki/MIDI) cada uma das notas do teclado está representada por números entre 0 e 127. Por exemplo, o Dó central (C4) corresponde ao número 60. \n",
    "\n",
    "Assim, podemos facilmente transformar notas em números 0-127 utilizando a fórmula 12*oitava + altura (note que cada oitava possui 12 semitons) :"
   ]
  },
  {
   "cell_type": "code",
   "execution_count": 2,
   "metadata": {},
   "outputs": [
    {
     "name": "stdout",
     "output_type": "stream",
     "text": [
      "C4 corresponde a : 60\n",
      "62 corresponde a : D4\n"
     ]
    }
   ],
   "source": [
    "# As notas com bemol\n",
    "NOTES_FLAT = ['C', 'Db', 'D', 'Eb', 'E', 'F', 'Gb', 'G', 'Ab', 'A', 'Bb', 'B']\n",
    "# As notas com sustenido\n",
    "NOTES_SHARP = ['C', 'C#', 'D', 'D#', 'E', 'F', 'F#', 'G', 'G#', 'A', 'A#', 'B']\n",
    "\n",
    "def NoteToMidi(KeyOctave):\n",
    "    # KeyOctave is formatted like 'C#3'\n",
    "    # Fonte: https://stackoverflow.com/questions/13926280/musical-note-string-c-4-f-3-etc-to-midi-note-value-in-python\n",
    "    key = KeyOctave[:-1]  # eg C, Db\n",
    "    octave = KeyOctave[-1]   # eg 3, 4\n",
    "    answer = -1\n",
    "\n",
    "    try:\n",
    "        if 'b' in key:\n",
    "            pos = NOTES_FLAT.index(key)\n",
    "        else:\n",
    "            pos = NOTES_SHARP.index(key)\n",
    "    except:\n",
    "        print('The key is not valid', key)\n",
    "        return answer\n",
    "\n",
    "    answer += pos + 12 * (int(octave) + 1) + 1\n",
    "    return answer\n",
    "\n",
    "def MidiToNote(valor):\n",
    "    '''Transformar um valor Midi a Nota'''\n",
    "    return NOTES_SHARP[valor % 12] + str(valor//12 - 1)\n",
    "\n",
    "def adicionarOitava(nota, oitava):\n",
    "    '''Adiciona a oitava: (\"Gb\",3) --> Gb3 '''\n",
    "    return nota + str(oitava)\n",
    "\n",
    "print(f'C4 corresponde a : {NoteToMidi(\"C4\")}')\n",
    "print(f'62 corresponde a : {MidiToNote(62)}')"
   ]
  },
  {
   "cell_type": "markdown",
   "metadata": {},
   "source": [
    "Note, que aumentar 1 significa subir um semitom:\n",
    " - De C a D temos um tom (2 semitons). Igualmente entre D-E, G-A e A-B.\n",
    " - Entre E-F e B-C temos 1 semitom. \n",
    " - De  C e C# temos um semitom (similarmente para as outras notas sustenidas)\n",
    "\n",
    "## Midi\n",
    " O formato Midi é uma serie de mensagens que permitem tocar instrumentos musicais (eletrônicos).  As mensagens normalmente indicam uma ação (tocar uma nota) e o tempo no qual essa ação deve ser executada. \n",
    " \n",
    " O exemplo a seguir produz um arquivo Midi com a escala de Dó maior"
   ]
  },
  {
   "cell_type": "code",
   "execution_count": 3,
   "metadata": {},
   "outputs": [],
   "source": [
    "from midiutil import MIDIFile\n",
    "\n",
    "# --------------------------\n",
    "track    = 0  #faixa\n",
    "channel  = 0  # canal\n",
    "time     = 0  # Beat inicial\n",
    "tempo    = 60  # BPM (beats/pulsações por minuto)\n",
    "volume   = 100  # 0-127, (padrão MIDI)\n",
    "arquivo  = \"1.mid\"\n",
    "# --------------------------\n",
    "\n",
    "# Criar um objeto tipo Midi\n",
    "MyMIDI = MIDIFile(1)  # Só um track\n",
    "# No track 0 (o único neste caso), a partir do beat 0 (o primeiro) \n",
    "# o tempo será 60 (60 beats por segundo). \n",
    "MyMIDI.addTempo(track, time, tempo)\n",
    "\n",
    "# Escala de Dó maior (4ta oitava)\n",
    "escalaC = [\"C4\", \"D4\", \"E4\", \"F4\", \"G4\", \"A4\", \"B4\", \"C5\"]\n",
    "# Converter a valores midi\n",
    "escala = map(NoteToMidi, escalaC)\n",
    "for i, n in enumerate(escala):\n",
    "    # Parâmetros: faixa, canal, nota, tempo, duração, volume\n",
    "    MyMIDI.addNote(track, channel, n, i, 1, volume)\n",
    "    # Note que i toma os valores 0,1,2,3... Isso significa que, \n",
    "    # em cada pulsação teremos uma nota. Como a duração é 1 e o tempo é 60 (beats por minuto), \n",
    "    # cada nota terá uma duração de um segundo. \n",
    "\n",
    "# Escrever a um arquivo\n",
    "with open(arquivo, \"wb\") as output_file:\n",
    "    MyMIDI.writeFile(output_file)\n",
    "    \n",
    "    "
   ]
  },
  {
   "cell_type": "markdown",
   "metadata": {},
   "source": [
    "Escute o resultado no arquivo <a href=\"./1.mid\">1.mid</a> : Cada segundo (tempo = 60) escutamos uma das notas da escala maior. \n",
    "\n",
    "<img src=\"img/1mid.png\">"
   ]
  },
  {
   "cell_type": "markdown",
   "metadata": {},
   "source": [
    "## Exercício (Escala Maior)\n",
    "Toda [escala maior](https://pt.wikipedia.org/wiki/Escala_maior) obedece à seguinte ordem:\n",
    "\n",
    "Tom - Tom - Semitom - Tom - Tom - Tom - Semitom\n",
    "\n",
    "Note que na escala de C maior, os semitons correspondem a E-F e B-C. \n",
    "\n",
    "Um intervalo é a diferença (em número de semitons) entre dois notas. Por exemplo, temos um intervalo de 2 entre C e D. \n",
    "\n",
    "Implemente uma função que receba como parâmetro uma nota (\"E4\", \"G#4\", etc), uma sequência de intervalos e gere a sequência de sons resultantes. Por exemplo, se passarmos como parâmetro \"C4\" e a sequência [2,2,1,2,2,2,1] devemos obter a sequência de valores Midi [60, 62, 64, 65, 67, 69, 71, 72] que corresponde exatamente à escala C maior. \n"
   ]
  },
  {
   "cell_type": "code",
   "execution_count": null,
   "metadata": {},
   "outputs": [],
   "source": [
    "# Exercício Escala Maior\n"
   ]
  },
  {
   "cell_type": "markdown",
   "metadata": {},
   "source": [
    "## Exercício (Chain)\n",
    "A função [chain(it1,it2,...)](https://docs.python.org/3/library/itertools.html#itertools.chain) do pacote `itertools` constrói  um iterador que primeiro retorna os elementos de it1, depois os elementos de it2, etc. \n",
    "\n",
    "A [escala menor](https://pt.wikipedia.org/wiki/Escala_menor) obedece à ordem:\n",
    "tom, semitom, tom, tom, semitom, tom, tom\n",
    "\n",
    "Escreva uma função que, dada uma nota N (\"E4\", \"G#4\", etc) gere a escala N Maior, depois N menor, depois N menor em ordem reversa e finalmente N Maior em ordem reversa. \n",
    "\n",
    "Por exemplo, se N=\"E4\", o resultado deve ser <a href=\"2.mid\">2.mid</a>. Nesse arquivo, utilizei tempo=120 (2 notas por segundo).\n",
    "\n",
    "<img src=\"img/2mid.png\">\n",
    "\n",
    "Na escala de Mi maior, Fá e Sol, Dó e Ré devem ser sustenidos para respeitar os intervalos: E F# (1 tom), F# G# (1 tom), G# A (1 semitom), etc. Já na escala menor: E F# (1 tom), F# G (1 semitom), etc. Note o [Bequadro](https://pt.wikipedia.org/wiki/Acidente) que cancela os sustenidos definidos na armadura (em particular, Sol e Dó deixam de ser sustenidos para respeitar os intervalos da escala menor). \n"
   ]
  },
  {
   "cell_type": "code",
   "execution_count": null,
   "metadata": {},
   "outputs": [],
   "source": [
    "# Exercício 2\n"
   ]
  },
  {
   "cell_type": "markdown",
   "metadata": {},
   "source": [
    "## Adicionando ritmo\n",
    "Vamos utilizar uma namedtuple para representar as notas e as suas durações:"
   ]
  },
  {
   "cell_type": "code",
   "execution_count": null,
   "metadata": {},
   "outputs": [],
   "source": [
    "from collections import namedtuple\n",
    "# Por exemplo NStr(\"C#4\", 2)\n",
    "NStr = namedtuple(\"NStr\", \"nota dur\") \n",
    "# Por exemplo NNum(60, 2)\n",
    "NNum = namedtuple(\"NNum\", \"nota dur\") \n",
    "\n",
    "def toNum(seq):\n",
    "    '''Transforma uma sequência de NStr para NNum '''\n",
    "    return map(lambda x: NNum(NoteToMidi(x.nota), x.dur), seq) "
   ]
  },
  {
   "cell_type": "markdown",
   "metadata": {},
   "source": [
    "Para facilitar as coisas, vamos criar uma função que recebe uma sequência de NNum e gera um arquivo Midi"
   ]
  },
  {
   "cell_type": "code",
   "execution_count": null,
   "metadata": {},
   "outputs": [],
   "source": [
    "def tocar(seq, arquivo, tempo=120, volume = 100, track=0, channel=0):\n",
    "    '''Cria um arquivo midi com os valores da sequência (de objetos tipo NNum)'''\n",
    "    MyMIDI = MIDIFile(1)  # Só um track\n",
    "    MyMIDI.addTempo(0, 0, tempo)\n",
    "    t = 0\n",
    "    for n,d in seq:\n",
    "        MyMIDI.addNote(track, channel, n, t, d, volume)\n",
    "        t+=d\n",
    "\n",
    "    with open(arquivo, \"wb\") as output_file:\n",
    "        MyMIDI.writeFile(output_file)\n",
    "    \n",
    "# Um exemplo simples\n",
    "l = [NStr(\"C4\",2),\n",
    "     NStr(\"D4\",1),NStr(\"D4\",1),\n",
    "     NStr(\"E4\",1/4),NStr(\"E4\",1/4),NStr(\"E4\",1/4),NStr(\"E4\",1/4)]\n",
    "\n",
    "tocar(toNum(l),\"3.mid\")"
   ]
  },
  {
   "cell_type": "markdown",
   "metadata": {},
   "source": [
    "Neste caso, com tempo=120, escutamos em <a href=\"3.mid\">3.mid</a> Dó por 1 segundo, 2 vezes Ré (cada uma de meio segundo) e 4 vezes Mi (cada uma de 1/4 de segundo). "
   ]
  },
  {
   "cell_type": "markdown",
   "metadata": {},
   "source": [
    "## Exercício (Repetições na escala)\n",
    "Generalize o último exemplo para que, dada uma nota n e uma duração d, produza a escala maior de n onde a primeira nota tem uma duração d (e é tocada 1 vez), a segunda com duração d/2 (tocada 2 vezes), a terceira d/4, etc. Por exemplo, com tempo=60, d=4 e n=\"C4\" o resultado seria <a href=\"4.mid\">4.mid</a>"
   ]
  },
  {
   "cell_type": "code",
   "execution_count": null,
   "metadata": {},
   "outputs": [],
   "source": [
    "# Exercício Repetições"
   ]
  },
  {
   "cell_type": "markdown",
   "metadata": {},
   "source": [
    "\n",
    "## Exercício (Soft Kitty)\n",
    "\n",
    "Vamos produzir uma versão alternativa de [Soft Kitty](https://www.youtube.com/watch?v=N-qra604RbU).  Para isso, primeiro criamos uma função que gere bools aleatórios. \n"
   ]
  },
  {
   "cell_type": "code",
   "execution_count": null,
   "metadata": {},
   "outputs": [],
   "source": [
    "import random\n",
    "def randomseq():\n",
    "    '''Gera uma sequência aleatória de bools'''\n",
    "    while True:\n",
    "        yield random.choice([True, False])\n",
    "     \n",
    "# as Notas de Soft Kitty como tuplas NStr\n",
    "notas = [NStr(nota='G4', dur=2), NStr(nota='E4', dur=1), NStr(nota='E4', dur=1), \n",
    "         NStr(nota='F4', dur=2), NStr(nota='D4', dur=1), NStr(nota='D4', dur=1), \n",
    "         NStr(nota='C4', dur=1), NStr(nota='D4', dur=1), NStr(nota='E4', dur=1), NStr(nota='F4', dur=1), \n",
    "         NStr(nota='G4', dur=4), \n",
    "         NStr(nota='G4', dur=1), NStr(nota='G4', dur=1), NStr(nota='E4', dur=1), NStr(nota='E4', dur=1), \n",
    "         NStr(nota='F4', dur=1), NStr(nota='F4', dur=1), NStr(nota='D4', dur=1), NStr(nota='D4', dur=1), \n",
    "         NStr(nota='C4', dur=2), NStr(nota='D4', dur=2), \n",
    "         NStr(nota='C4', dur=4)]"
   ]
  },
  {
   "cell_type": "markdown",
   "metadata": {},
   "source": [
    "A ideia é que, por cada valor true dessa sequência aleatória, dividimos a nota correspondente em 2 (de duração d/2) como no exercício anterior. Segue o meu resultado com tempo=120 concatenando a versão original da música e depois tocando a versão modificada. Como estamos utilizando números aleatórios, provavelmente a sua versão não corresponde exatamente com a minha (<a href=\"5.mid\">5.mid</a>). \n",
    "<img src=\"img/5mid.png\">"
   ]
  },
  {
   "cell_type": "code",
   "execution_count": null,
   "metadata": {},
   "outputs": [],
   "source": [
    "# Exercício Soft Kitty"
   ]
  },
  {
   "cell_type": "markdown",
   "metadata": {},
   "source": [
    "## Exercício (Transposição)\n",
    "A transposição é o processo de modificar a altura de uma nota por um intervalo constante. Por exemplo, a transposição de C em 3 semitons seria D# (que é a mesma coisa que Eb). Escreva uma função que, dada uma sequência de notas (NNum) e um número N de semitons, gere a sequência com essa transposição. A sua função deve trabalhar com sequências de objetos tipo NStr e NNum. Aproveite essa função para escutar primeiro o Soft Kitty original, depois com uma transposição de 8 semitons e depois com uma transposição de -4 semitons (<a href=\"6.mid\">6.mid</a>)"
   ]
  },
  {
   "cell_type": "code",
   "execution_count": null,
   "metadata": {},
   "outputs": [],
   "source": [
    "# Exercício Transposição"
   ]
  },
  {
   "cell_type": "markdown",
   "metadata": {},
   "source": [
    "## Exercício (Rotação)\n",
    "Uma rotação consiste em deslocar os elementos de uma lista à direita. Por exemplo, se rotamos 2 vezes a lista [a,b,c,d], obtemos [c,d,a,b]. \n",
    "\n",
    "\n",
    "Dado um número N de beats/pulsações, gere uma sequência de listas, cada uma contendo grupos de duração N beats. Por exemplo:\n",
    "```\n",
    "l = [NStr(nota='G4', dur=2), NStr(nota='E4', dur=1), NStr(nota='E4', dur=1)]\n",
    "N = 2\n",
    "res = [\n",
    "        [ NStr(nota='G4', dur=2)], #duração = 2\n",
    "        [NStr(nota='E4', dur=1), NStr(nota='E4', dur=1)] # duração = 1 + 1 = 2\n",
    "       ]\n",
    "```\n",
    "\n",
    "Depois, implemente uma função que rote M elementos os grupos ímpares da sequência resultante da transformação acima. Por exemplo, se utilizarmos esse transformação com a escala do Dó maior, agrupando de 2 em 2 notas, o resultado seria <a href=\"7.mid\">7.mid</a> \n",
    "\n",
    "<img src=\"img/7mid.png\">\n",
    "\n"
   ]
  },
  {
   "cell_type": "code",
   "execution_count": null,
   "metadata": {},
   "outputs": [],
   "source": [
    "# Exercício Rotação"
   ]
  },
  {
   "cell_type": "markdown",
   "metadata": {},
   "source": [
    "## Exercício (Permutações)\n",
    "Uma forma simples de improvisação é tocar a mesma sequência de notas permutando seus elementos. Escreva uma função que, dada uma sequência de notas,  gere todas as possíveis permutações dela. Por exemplo, para a sequência `[\"C4\",\"E4\",\"G4\"]` o resultado é <a href=\"8.mid\">8.mid</a>. \n",
    "\n",
    "<img src=\"img/8mid.png\">\n"
   ]
  },
  {
   "cell_type": "code",
   "execution_count": null,
   "metadata": {},
   "outputs": [],
   "source": [
    "# Exercício Permutação"
   ]
  },
  {
   "cell_type": "markdown",
   "metadata": {},
   "source": [
    "# Harmonia \n",
    "\n",
    "Nesta seção vamos combinar sons simultâneos. Para isso, vamos produzir notas em canais diferentes. Segue um exemplo simples que executa G Maior na oitava 3 e C Maior na oitava 4. (Resultado em <a href=\"9.mid\">9.mid</a>).\n",
    "\n",
    "<img src=\"img/9mid.png\">"
   ]
  },
  {
   "cell_type": "code",
   "execution_count": null,
   "metadata": {},
   "outputs": [],
   "source": [
    "def tocarSimultaneo(seq1, seq2, arquivo, tempo=120, volume = 100, track=0):\n",
    "    '''Seq1 vai ser tocada no canal 0 e seq 2 no canal 2'''\n",
    "    MyMIDI = MIDIFile(1)  # Só um track\n",
    "    MyMIDI.addTempo(0, 0, tempo) \n",
    "    canal1 = 0\n",
    "    canal2 = 1\n",
    "    t=0\n",
    "    for n,d in seq1:\n",
    "        MyMIDI.addNote(track, canal1, n, t, d, volume)\n",
    "        t+= d\n",
    "    t=0\n",
    "    for n,d in seq2:\n",
    "        MyMIDI.addNote(track, canal2, n, t, d, volume)\n",
    "        t+= d\n",
    "        \n",
    "    with open(arquivo, \"wb\") as output_file:\n",
    "        MyMIDI.writeFile(output_file)\n",
    "\n",
    "\n",
    "CMaior =  ( NNum(x,1) for x in gerarEscalaMaior(\"C\",4) )\n",
    "GMaior =  ( NNum(x,1) for x in gerarEscalaMaior(\"G\",3) )\n",
    "tocarSimultaneo(CMaior,GMaior,\"9.mid\")"
   ]
  },
  {
   "cell_type": "markdown",
   "metadata": {},
   "source": [
    "## Exercício (Instrumentos)\n",
    "\n",
    "Para trocar o instrumento utilizado, MIDIFile oferece o método\n",
    "```\n",
    "addProgramChange(track, channel, time, program)\n",
    "```\n",
    "que modifica, no tempo `time`, o \"programa\" (instrumento) a ser utilizado. Esse programa é um número de 1 a 128. Veja a lista de instrumentos [aqui](https://en.wikipedia.org/wiki/General_MIDI). \n",
    "\n",
    "Note que a função tocarSimultaneo inicializa os dois canais no mesmo tempo (t=0), e utiliza o mesmo volume e instrumento para executar as duas sequências. \n",
    "\n",
    "Defina uma named tuple para configurar a execução de cada sequência (ou seja, tempo, volume, instrumento, etc). Também, generalize a função anterior para que receba como parâmetro um número não determinado de sequências (e as suas configurações) e gere o arquivo Midi. Lembre que isso pode ser feito em Python com o operador de desempacotamento:\n",
    "\n",
    "```\n",
    "def f(*params):\n",
    "  '''Recebe 0 ou mais parâmetros'''\n",
    "  for i in params:\n",
    "    print(i)\n",
    "\n",
    "f() # Sem parâmetros\n",
    "f(1) # com um parâmetro\n",
    "f(1,2) # com dois parâmetros\n",
    "``` \n",
    "Finalmente, teste a sua solução para fazer um \"Canon\", isto é, tocar soft kitty transposta  e iniciando em instantes diferentes. Por exemplo, em <a href=\"10.mid\">10.mid</a>, Soft Kitty começa com o piano (volume 100) e, depois de 8 pulsações, começa a mesma música transposta -5 semitons tocada na flauta (74)."
   ]
  },
  {
   "cell_type": "code",
   "execution_count": null,
   "metadata": {},
   "outputs": [],
   "source": [
    "# Exercício Instrumentos"
   ]
  },
  {
   "cell_type": "markdown",
   "metadata": {},
   "source": [
    "\n",
    "## Exercício (Percussão)\n",
    "\n",
    "Adicionei uma \"batida\" (ritmo de fundo) em Soft Kitty. Para isso, você pode utilizar os instrumentos de percussão (113-120). A minha versão: <a href=\"11.mid\">11.mid</a>.\n"
   ]
  },
  {
   "cell_type": "code",
   "execution_count": null,
   "metadata": {},
   "outputs": [],
   "source": [
    "# Exercício Percuss˜ō"
   ]
  },
  {
   "cell_type": "markdown",
   "metadata": {},
   "source": [
    "\n",
    "## Exercício (Acompanhamento)\n",
    "Vamos implementar um acompanhamento simples para Soft Kitty. Um [triade](https://pt.wikipedia.org/wiki/Acorde) é um acorde que resulta da sobreposição de uma nota, sua terça (4 semitons acima) e quinta (7 semitons acima). Por exemplo, o acorde de C resulta em CEG. Vamos criar uma segunda voz que vai executar o acorde principal da primeira nota de cada compasso. Esse acorde deve ser gerado uma oitava abaixo (12 semitons) dessa nota. Meu resultado: <a href=\"12.mid\">12.mid</a>. \n"
   ]
  },
  {
   "cell_type": "code",
   "execution_count": null,
   "metadata": {},
   "outputs": [],
   "source": [
    "# Exercício Acompanhamento"
   ]
  }
 ],
 "metadata": {
  "kernelspec": {
   "display_name": "Python 3",
   "language": "python",
   "name": "python3"
  },
  "language_info": {
   "codemirror_mode": {
    "name": "ipython",
    "version": 3
   },
   "file_extension": ".py",
   "mimetype": "text/x-python",
   "name": "python",
   "nbconvert_exporter": "python",
   "pygments_lexer": "ipython3",
   "version": "3.9.2"
  }
 },
 "nbformat": 4,
 "nbformat_minor": 4
}
