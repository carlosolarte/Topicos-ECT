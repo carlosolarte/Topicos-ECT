{
 "cells": [
  {
   "cell_type": "markdown",
   "metadata": {},
   "source": [
    "# Python Básico I\n",
    "\n",
    "\n",
    "## Terminal Python como Calculadora (e o Zen do Python)\n",
    "\n",
    "Seguem alguns comandos simples que podem ser executados no terminal de comandos interativo "
   ]
  },
  {
   "cell_type": "code",
   "execution_count": 1,
   "metadata": {},
   "outputs": [
    {
     "data": {
      "text/plain": [
       "5"
      ]
     },
     "execution_count": 1,
     "metadata": {},
     "output_type": "execute_result"
    }
   ],
   "source": [
    "3 + 2"
   ]
  },
  {
   "cell_type": "code",
   "execution_count": null,
   "metadata": {},
   "outputs": [],
   "source": [
    "print(\"alo mundo!\")"
   ]
  },
  {
   "cell_type": "code",
   "execution_count": 2,
   "metadata": {},
   "outputs": [
    {
     "data": {
      "text/plain": [
       "1.4142135623730951"
      ]
     },
     "execution_count": 2,
     "metadata": {},
     "output_type": "execute_result"
    }
   ],
   "source": [
    "import math \n",
    "math.sqrt(2)"
   ]
  },
  {
   "cell_type": "code",
   "execution_count": null,
   "metadata": {},
   "outputs": [],
   "source": [
    "# O Zen do Python\n",
    "import this"
   ]
  },
  {
   "cell_type": "markdown",
   "metadata": {},
   "source": [
    "---\n",
    "## Comandos Básicos em Python\n",
    "\n",
    "### Comentários\n",
    "Comentários de linha em Python: linhas que começam com ```#```\n",
    "\n",
    "Também, strings podem ser utilizadas para documentar código:"
   ]
  },
  {
   "cell_type": "code",
   "execution_count": 3,
   "metadata": {},
   "outputs": [
    {
     "data": {
      "text/plain": [
       "5"
      ]
     },
     "execution_count": 3,
     "metadata": {},
     "output_type": "execute_result"
    }
   ],
   "source": [
    "def soma(x, y):\n",
    "  '''Função para calcular a soma de x e y'''\n",
    "  return x + y\n",
    "\n",
    "soma(3,2)\n"
   ]
  },
  {
   "cell_type": "code",
   "execution_count": null,
   "metadata": {},
   "outputs": [],
   "source": [
    "#Podemos ler a documentação da função!\n",
    "soma.__doc__"
   ]
  },
  {
   "cell_type": "code",
   "execution_count": 4,
   "metadata": {},
   "outputs": [
    {
     "name": "stdout",
     "output_type": "stream",
     "text": [
      "Help on function soma in module __main__:\n",
      "\n",
      "soma(x, y)\n",
      "    Função para calcular a soma de x e y\n",
      "\n"
     ]
    }
   ],
   "source": [
    "# Alternativamente, podemos utilizar a função help\n",
    "help(soma)"
   ]
  },
  {
   "cell_type": "markdown",
   "metadata": {},
   "source": [
    "Strings podem ser também utilizadas para comentários de várias linhas"
   ]
  },
  {
   "cell_type": "code",
   "execution_count": null,
   "metadata": {},
   "outputs": [],
   "source": [
    "def mult(x,y):\n",
    "    '''\n",
    "    Retorna x * y.\n",
    "    Nesta implementação vamos a utilizar\n",
    "    o operator * de Python e depois retornar o valor. \n",
    "    '''\n",
    "    return x * y\n",
    "\n",
    "print(mult(3,5))\n",
    "help(mult)\n",
    "    "
   ]
  },
  {
   "cell_type": "markdown",
   "metadata": {},
   "source": [
    "## Separador\n",
    "Note que não há necessidade de utilizar ```;```\n"
   ]
  },
  {
   "cell_type": "code",
   "execution_count": null,
   "metadata": {},
   "outputs": [],
   "source": [
    "x = 4 ; # Com ;\n",
    "y = 5   # sem  ;\n",
    "print(x+y)"
   ]
  },
  {
   "cell_type": "markdown",
   "metadata": {},
   "source": [
    "--- \n",
    "\n",
    "## Variáveis e tipos\n",
    "- Declarar variável:\n",
    "    - O tipo das varáveis é determinado automaticamente pelo valor atribuído\n",
    "    - Usar operador de atribuição ```=```\n",
    "    - Ex.: ```a = 5```, a variável ```a``` é do tipo ```int```\n",
    "- Como saber o tipo de uma variável?: ```type(variavel)```"
   ]
  },
  {
   "cell_type": "code",
   "execution_count": null,
   "metadata": {},
   "outputs": [],
   "source": [
    "i = 3\n",
    "type(i)"
   ]
  },
  {
   "cell_type": "code",
   "execution_count": null,
   "metadata": {},
   "outputs": [],
   "source": [
    "s = \"alo\"\n",
    "type(s)"
   ]
  },
  {
   "cell_type": "code",
   "execution_count": null,
   "metadata": {},
   "outputs": [],
   "source": [
    "f = 3.2\n",
    "type(f)"
   ]
  },
  {
   "cell_type": "code",
   "execution_count": null,
   "metadata": {},
   "outputs": [],
   "source": [
    "b = True\n",
    "type(b)"
   ]
  },
  {
   "cell_type": "markdown",
   "metadata": {},
   "source": [
    "### Tipos básicos em Python\n",
    "- Número inteiro: ```int```\n",
    "- Número real: ```float```\n",
    "- Booleano: ```bool``` (valor ```True``` ou ```False```)\n",
    "- String: ```str``` (tanto faz aspas simples ``` 'ECT' ``` ou duplas ```\"ECT\"```)\n",
    "    - Também usado para caracteres"
   ]
  },
  {
   "cell_type": "code",
   "execution_count": null,
   "metadata": {},
   "outputs": [],
   "source": [
    "print('uma string')\n",
    "print(\"outra string\")\n",
    "print(\"mais uma string\")\n",
    "print('''3 aspas também funciona!''') #Normalmente utilizadas para documentar código\n"
   ]
  },
  {
   "cell_type": "markdown",
   "metadata": {},
   "source": [
    "### Conversão explícita entre tipos\n",
    "É possível converter uma variável de um tipo em outro utilizando funções cujo nome é igual ao tipo para o qual a expressão deve ser convertida:\n",
    "\n",
    "- ```int(expr)```, ```float(expr)```, etc.\n",
    "- Similar ao operador de *typecast* em C++\n",
    "\n",
    "Alguns exemplos:"
   ]
  },
  {
   "cell_type": "code",
   "execution_count": null,
   "metadata": {},
   "outputs": [],
   "source": [
    "x = int('1234')\n",
    "y = float('5.1435')\n",
    "type(y)"
   ]
  },
  {
   "cell_type": "code",
   "execution_count": null,
   "metadata": {},
   "outputs": [],
   "source": [
    "i = 4\n",
    "s = str(i)\n",
    "type(s)"
   ]
  },
  {
   "cell_type": "markdown",
   "metadata": {},
   "source": [
    "### Conversão implícita\n",
    "Em Python, com em C++, existe também a conversão implícita:"
   ]
  },
  {
   "cell_type": "code",
   "execution_count": null,
   "metadata": {},
   "outputs": [],
   "source": [
    "a = 10\n",
    "b = 1.33\n",
    "c = a + b\n",
    "type(c)"
   ]
  },
  {
   "cell_type": "markdown",
   "metadata": {},
   "source": [
    "---\n",
    "## Comandos Básicos em Python\n",
    "### Operadores aritméticos\n",
    "- Adição: ```+```\n",
    "- Subtração: ```-```\n",
    "- Multiplicação: ```*```\n",
    "- Divisão: ```/```\n",
    "- Divisão inteira: ```//``` \n",
    "- Resto da divisão: ```%```\n",
    "- Exponenciação: ```**```\n",
    "- Radiciação: função ```sqrt``` (módulo ```math```)\n",
    "- Atribuição junto com operação: ```+=```, ```-=```, etc.\n",
    "\n",
    "Alguns exemplos:"
   ]
  },
  {
   "cell_type": "code",
   "execution_count": null,
   "metadata": {},
   "outputs": [],
   "source": [
    "print(3 / 2) # Divisão\n",
    "print(3 // 2) # Divisão inteira\n",
    "print (6 % 2) #Resto da divisão\n",
    "print( 3 ** 2) #Exponenciação \n",
    "x = 5\n",
    "x += 3\n",
    "print(x)"
   ]
  },
  {
   "cell_type": "markdown",
   "metadata": {},
   "source": [
    "### Comparação com C++\n",
    "- Operadores para divisão e divisão inteira separados\n",
    "- Operador para potência\n",
    "- Não existe o operador de incremento/decremento (```++```/```--```)\n",
    "\n",
    "### Operadores relacionais\n",
    "- Igual: ```==```\n",
    "- Diferente: ```!=```\n",
    "- Maior: ```>```\n",
    "- Maior ou igual: ```>=```\n",
    "- Menor: ```<```\n",
    "- Menor ou igual: ```<=```\n",
    "\n",
    "O que imprimiria o código a seguir em C++ ?\n",
    "```\n",
    "cout<< (3 < 5 < 2 ) ;\n",
    "```\n"
   ]
  },
  {
   "cell_type": "code",
   "execution_count": null,
   "metadata": {},
   "outputs": [],
   "source": [
    "# Em Python... funciona!\n",
    "print ( 3 < 5 < 2 )"
   ]
  },
  {
   "cell_type": "markdown",
   "metadata": {},
   "source": [
    "### Operadores lógicos e valores lógicos\n",
    "- ```False```, ```0```, ```None```, ``` '' ``` (string vazia) e sequências vazias têm o valor lógico igual a falso\n",
    "- Qualquer outra coisa: valor lógico igual a verdadeiro\n",
    "- Negação: ```not```\n",
    "- Conjunção (e): ```and```\n",
    "- Disjunção (ou): ```or```"
   ]
  },
  {
   "cell_type": "code",
   "execution_count": null,
   "metadata": {},
   "outputs": [],
   "source": [
    "x = True and (False or True)\n",
    "print(x)\n",
    "print(not True)"
   ]
  },
  {
   "cell_type": "markdown",
   "metadata": {},
   "source": [
    "### Precedência de operadores\n",
    "1. Operadores aritméticos\n",
    "2. Operadores relacionais\n",
    "3. Operadores lógicos\n",
    "\n",
    "Na dúvida, utilizar parênteses ```()```"
   ]
  },
  {
   "cell_type": "code",
   "execution_count": null,
   "metadata": {},
   "outputs": [],
   "source": [
    "not  1 + 2  < 5"
   ]
  },
  {
   "cell_type": "code",
   "execution_count": null,
   "metadata": {},
   "outputs": [],
   "source": [
    "(not  1 + 2)  < 5"
   ]
  },
  {
   "cell_type": "code",
   "execution_count": null,
   "metadata": {},
   "outputs": [],
   "source": [
    "not  1 + (2  < 5)"
   ]
  },
  {
   "cell_type": "code",
   "execution_count": null,
   "metadata": {},
   "outputs": [],
   "source": [
    "(not  1) + 2   < 5"
   ]
  },
  {
   "cell_type": "markdown",
   "metadata": {},
   "source": [
    "--- \n",
    "\n",
    "## Impressão de dados na tela\n",
    "- Função ```print(mensagem)```\n",
    "- Alternativas:\n",
    "    - ```print(mensagem, expr)```\n",
    "    - Com saída formatada tipo ```printf``` do C: ```print(\"x eh %i, y eh %i\" % (x, y))```\n",
    "    - Com saída formatada tipo Python: ```print(\"x e {0}, y e {1}\".format(x, y))```\n",
    "    - Ainda mais simples ```print(f\"x e {x}, y e {y}\")```\n",
    "- Python também possui caracteres especiais como ``` `\\n' ``` e ``` `\\t' ```\n",
    "    - Comando ```print``` já possui o ``` `\\n' ```\n",
    "    - Caso não queria utilizá-lo, altere o parâmetro ```end```:\n",
    "      ```print(\"o resultado eh {0}\".format(x), end='')```"
   ]
  },
  {
   "cell_type": "code",
   "execution_count": null,
   "metadata": {},
   "outputs": [],
   "source": [
    "x = 3\n",
    "s = \"alo\"\n",
    "print(f'x = {x}, x + 4 = {x+4}. String = {s}')\n",
    "print('Alo', end='...')\n",
    "print('Mundo')"
   ]
  },
  {
   "cell_type": "markdown",
   "metadata": {},
   "source": [
    "## Leitura de dados do teclado\n",
    "- Função ```input(mensagem)```\n",
    "- A função retorna os dados lidos como uma única variável do tipo ```str```\n",
    "- Ou seja, para ler um número inteiro, por exemplo, é necessário utilizar a função de conversão\n",
    "    - Ex.: ```x = int(input(\"Insira um numero inteiro: \"))```"
   ]
  },
  {
   "cell_type": "code",
   "execution_count": null,
   "metadata": {},
   "outputs": [],
   "source": [
    "i = int(input(\"Número inteiro? \"))\n",
    "i += 1\n",
    "print(i)"
   ]
  },
  {
   "cell_type": "markdown",
   "metadata": {},
   "source": [
    "---\n",
    "## Executando Arquivos .py\n",
    "- O terminal interativo Python é útil, mas se torna inviável para códigos com tamanhos grandes\n",
    "- Portanto, vale a pena escrever o código dos programas em arquivos ```.py```\n",
    "- Para executar o programa:\n",
    "    - Usando o terminal, vá até a pasta do arquivo e digite ```python3 arquivo.py``` ou\n",
    "    - Utilize a opção de executar um arquivo na IDE de sua preferência\n",
    "    \n",
    "    "
   ]
  },
  {
   "cell_type": "markdown",
   "metadata": {},
   "source": [
    "---\n",
    "\n",
    "## Controle de Fluxo em Python\n",
    "### Código indentado é obrigatório\n",
    "- Em Python, não há ```{``` e ```}``` como em C++ para delimitar blocos\n",
    "- Blocos são delimitados pelos espaços em branco\n",
    "- Começar novo bloco: adicionar quatro espaços em branco\n",
    "- Finalizar bloco: remover quatro espaços em branco\n",
    "- Dica: configurar editor de texto para trocar tabulação por quatro espaços\n",
    "    - Sublime Text do laboratório está configurado assim\n",
    "    - Caso contrário: o interpretador irá dizer que o programa contém erros\n",
    "- Isto é necessário para os comandos de controle de fluxo, mostrados a seguir\n",
    "\n",
    "### Comando condicional ```if```\n",
    "- Sintaxe:\n",
    "\n",
    "```\n",
    "if condicao:\n",
    "        bloco de comandos\n",
    "```\n",
    "- ```else:``` é opcional\n",
    "\n",
    "### Comparação com C++\n",
    "- Não existe ```else if```, deve-se usar ```elif```\n",
    "- Não existe ```switch..case```, deve-se usar ```if... elif... else```\n"
   ]
  },
  {
   "cell_type": "code",
   "execution_count": null,
   "metadata": {},
   "outputs": [],
   "source": [
    "x = int(input(\"Insira um numero inteiro: \"))\n",
    "if x % 2 == 0:\n",
    "    print(f'{x} e par')\n",
    "else:\n",
    "    print(f'{x} e impar')"
   ]
  },
  {
   "cell_type": "code",
   "execution_count": null,
   "metadata": {},
   "outputs": [],
   "source": [
    "x = int(input(\"Insira um numero inteiro: \"))\n",
    "if x < 10:\n",
    "    print(\"menor 10\")\n",
    "elif x < 20:\n",
    "    print(\"entre 10 e 20\")\n",
    "else:\n",
    "    print(\"maior que 20\")\n",
    "    "
   ]
  },
  {
   "cell_type": "markdown",
   "metadata": {},
   "source": [
    "## Comando de repetição ```while```:\n",
    "\n",
    "- Funciona como em C++:\n",
    "    - Enquanto uma determinada condição for verdadeira, o laço é executado\n",
    "    - É necessário:\n",
    "        - Fazer com que a condição seja verdadeira pelo menos uma vez (antes do laço)\n",
    "        - Fazer com que a condição se torne falsa, em algum momento (dentro do laço)\n",
    "- Sintaxe:\n",
    "\n",
    "```\n",
    "while condicao:\n",
    "    bloco de comandos\n",
    "```\n",
    "\n",
    "### Comparação com C++\n",
    "- Não existe ```do..while```"
   ]
  },
  {
   "cell_type": "markdown",
   "metadata": {},
   "source": [
    "# Comando de repetição ```for```:\n",
    "\n",
    "- Funciona de forma diferente do ```for``` tradicional em C++:\n",
    "    - Uma variável local deve iterar sobre todos os elementos de uma sequência\n",
    "    - Por enquanto, devemos usar a função ```range```, para gerar uma sequência em um intervalo\n",
    "        - ```range(inicio, fim)```: gera sequência no intervalo\n",
    "          $[inicio,fim[$ com incremento igual a 1\n",
    "        - ```range(inicio, fim, inc)```: gera sequência no intervalo\n",
    "          $[inicio,fim[$ com incremento igual a ```incr```\n",
    "    - O intervalo gerado faz com que o ```for``` tenha o mesmo comportamento de C++\n",
    "\n",
    "- Sintaxe:\n",
    "\n",
    "```\n",
    "for var in sequencia:\n",
    "    bloco de comandos\n",
    "```"
   ]
  },
  {
   "cell_type": "code",
   "execution_count": null,
   "metadata": {},
   "outputs": [],
   "source": [
    "for i in range(0,10):\n",
    "   print(i)\n",
    "\n",
    "print('***')\n",
    "for i in range(10,0,-1):\n",
    "   print(i)\n",
    "\n",
    "print('***')   \n",
    "for i in range(0,10,2):\n",
    "   print(i)\n",
    " "
   ]
  },
  {
   "cell_type": "markdown",
   "metadata": {},
   "source": [
    "\n",
    "## Importante\n",
    "\n",
    "- O interpretador somente irá reportar erro em uma linha sintaticamente\n",
    "  incorreta caso esta linha seja executada\n",
    "    - Por exemplo, caso a linha possua uma variável não declarada, o interpretador\n",
    "      somente irá reportar este tipo de erro se a linha for executada\n",
    "\n",
    "## Mypy\n",
    "- Utilize [mypy](http://mypy-lang.org/) para verificar todos seus programas\n",
    "- Escreva anotações de tipos em todas suas funções\n",
    "\n",
    "Por exemplo, o interpretador de Python não vê nenhum problema em executar o código a seguir"
   ]
  },
  {
   "cell_type": "code",
   "execution_count": null,
   "metadata": {},
   "outputs": [],
   "source": [
    "def somaint(x:int, y:int) -> int :\n",
    "    '''Esta função não está bem implementada...\n",
    "       ela não retorna um número inteiro\n",
    "    '''\n",
    "    s = x+y\n",
    "\n",
    "\n",
    "print (somaint(3,2)) #None"
   ]
  },
  {
   "cell_type": "markdown",
   "metadata": {},
   "source": [
    "Se utilizamos mypy, o erro vai ser identificado e reportado:\n",
    "\n",
    "```\n",
    "mypy soma.py\n",
    "\n",
    "soma.py:1: error: Missing return statement\n",
    "Found 1 error in 1 file (checked 1 source file)\n",
    "```\n",
    "\n",
    "Mypy também determina se uma função foi utilizada com parâmetros de tipos não apropriados\n",
    "\n",
    "```\n",
    "def imprimir(x:int, s:str) -> None:\n",
    "    ''' Esta função imprime o inteiro x e depois imprime\n",
    "        a string s\n",
    "    '''\n",
    "    print(x)\n",
    "    print(s)\n",
    "\n",
    "\n",
    "a=4\n",
    "b=3\n",
    "imprimir(a,b)\n",
    "\n",
    "---\n",
    "imprimir.py:12: error: Argument 2 to \"imprimir\" has incompatible type \"int\"; expected \"str\"\n",
    "Found 1 error in 1 file (checked 1 source file)\n",
    "```\n",
    "\n",
    "\n",
    "\n",
    "---\n",
    "\n",
    "## Exercícios\n",
    "Implemente as funções a seguir. Em cada caso, escreva alguns testes. Não esqueça documentar as suas funções e escrever os tipos. \n",
    "\n",
    "- Determinar se um número é primo\n",
    "- Determinar o máximo comum divisor (MDC) de dois números inteiros\n",
    "- Determinar o número de dígitos de um número inteiro\n",
    "- Determinar se uma string é um palíndromo\n",
    "- Determinar se 3 números correspondem aos lados de um triângulo retângulo \n",
    "- Converter uma string para maiúsculo \n",
    "- Determinar se uma string contem o símbolo $\n",
    "- Dado um número inteiro n, retornar n \"invertido\" (123 -> 321)"
   ]
  }
 ],
 "metadata": {
  "celltoolbar": "Raw Cell Format",
  "kernelspec": {
   "display_name": "Python 3",
   "language": "python",
   "name": "python3"
  },
  "language_info": {
   "codemirror_mode": {
    "name": "ipython",
    "version": 3
   },
   "file_extension": ".py",
   "mimetype": "text/x-python",
   "name": "python",
   "nbconvert_exporter": "python",
   "pygments_lexer": "ipython3",
   "version": "3.8.6"
  }
 },
 "nbformat": 4,
 "nbformat_minor": 4
}
